{
  "nbformat": 4,
  "nbformat_minor": 0,
  "metadata": {
    "colab": {
      "name": "AgroHack.ipynb",
      "provenance": [],
      "collapsed_sections": [],
      "toc_visible": true,
      "mount_file_id": "1lx8iG-5dLUdTlmJfYq9uw7sPVVFw7_Ph",
      "authorship_tag": "ABX9TyNzw1bCPqwFNQ3Hu3Vf1ga9",
      "include_colab_link": true
    },
    "kernelspec": {
      "name": "python3",
      "display_name": "Python 3"
    },
    "accelerator": "GPU"
  },
  "cells": [
    {
      "cell_type": "markdown",
      "metadata": {
        "id": "view-in-github",
        "colab_type": "text"
      },
      "source": [
        "<a href=\"https://colab.research.google.com/github/KamilRizatdinov/AgroHack_DS/blob/main/AgroHack.ipynb\" target=\"_parent\"><img src=\"https://colab.research.google.com/assets/colab-badge.svg\" alt=\"Open In Colab\"/></a>"
      ]
    },
    {
      "cell_type": "code",
      "metadata": {
        "id": "L8ZgwkO-ZKhP"
      },
      "source": [
        "import json\n",
        "from os import listdir\n",
        "from os.path import isfile, join\n",
        "import re\n",
        "\n",
        "import keras\n",
        "import keras.layers as L\n",
        "import matplotlib.pyplot as plt\n",
        "import numpy as np\n",
        "import pandas as pd\n",
        "import tensorflow as tf\n",
        "from keras import backend as K\n",
        "from keras.layers.convolutional import Conv2D, MaxPooling2D\n",
        "from keras.layers.core import Activation, Dense, Dropout, Flatten\n",
        "from keras.layers.normalization import BatchNormalization\n",
        "from keras.models import Sequential\n",
        "from keras.optimizers import Adam\n",
        "from keras.preprocessing import image\n",
        "from keras.preprocessing.image import ImageDataGenerator, img_to_array\n",
        "from PIL import Image\n",
        "from sklearn.model_selection import train_test_split\n",
        "from sklearn.preprocessing import MultiLabelBinarizer\n",
        "from tensorflow import keras\n",
        "from tensorflow.keras import layers\n",
        "\n",
        "#YES"
      ],
      "execution_count": null,
      "outputs": []
    },
    {
      "cell_type": "code",
      "metadata": {
        "id": "3gIHYw-GZRfv"
      },
      "source": [
        "def convert_image_to_array(img, image_size):\n",
        "    try:\n",
        "        return np.array(img.resize((image_size, image_size), Image.ANTIALIAS))\n",
        "    except BaseException as e:\n",
        "        print(\"Error!\")\n",
        "        print(e)\n",
        "        plt.imshow(np.array(img) / 255)\n",
        "\n",
        "#YES"
      ],
      "execution_count": null,
      "outputs": []
    },
    {
      "cell_type": "code",
      "metadata": {
        "id": "EWuWJzoKZT16"
      },
      "source": [
        "# train_dir = \"/lemon-dataset/images/train/\"\n",
        "# test_dir = \"/lemon-dataset/images/test/\"\n",
        "# annotations_dir = \"/lemon-dataset/annotations/\"\n",
        "\n",
        "train_dir = \"/content/drive/MyDrive/lemon-dataset/images/train/\"\n",
        "test_dir = \"/content/drive/MyDrive/lemon-dataset/images/test/\"\n",
        "annotations_dir = \"/content/drive/MyDrive/lemon-dataset/annotations/\"\n",
        "\n",
        "images_train_filenames = [f for f in listdir(train_dir) if isfile(join(train_dir, f))]\n",
        "images_test_filenames = [f for f in listdir(test_dir) if isfile(join(test_dir, f))]\n",
        "\n",
        "#YES"
      ],
      "execution_count": null,
      "outputs": []
    },
    {
      "cell_type": "code",
      "metadata": {
        "id": "ws2qjYOsV3gn"
      },
      "source": [
        "filename_pattern = re.compile(r\"\\d{4}_[A-Z]_[A-Z]_\\d+_[A-Z].jpg\")\n",
        "def drop_bad_filenames(filenames):\n",
        "  result = [filename for filename in filenames if filename_pattern.match(filename)]\n",
        "  return result\n",
        "\n",
        "#YES, this is mine"
      ],
      "execution_count": null,
      "outputs": []
    },
    {
      "cell_type": "code",
      "metadata": {
        "colab": {
          "base_uri": "https://localhost:8080/"
        },
        "id": "-PraiVi3Zm9h",
        "outputId": "ec50318c-a3e3-4f05-c417-86dfb8cf0ad4"
      },
      "source": [
        "images_train_filenames = drop_bad_filenames(images_train_filenames)\n",
        "images_test_filenames = drop_bad_filenames(images_test_filenames)\n",
        "\n",
        "print(len(images_train_filenames))\n",
        "print(len(images_test_filenames))\n",
        "\n",
        "#YES, this is mine"
      ],
      "execution_count": null,
      "outputs": [
        {
          "output_type": "stream",
          "text": [
            "1962\n",
            "1\n"
          ],
          "name": "stdout"
        }
      ]
    },
    {
      "cell_type": "code",
      "metadata": {
        "id": "18BtM6pLZW9y"
      },
      "source": [
        "with open(annotations_dir + \"instances_default.json\", \"r\") as fp:\n",
        "    data = json.load(fp)\n",
        "\n",
        "\n",
        "df_annotations = data[\"annotations\"]\n",
        "df_annotations = pd.DataFrame(df_annotations)\n",
        "\n",
        "#YES"
      ],
      "execution_count": null,
      "outputs": []
    },
    {
      "cell_type": "code",
      "metadata": {
        "colab": {
          "base_uri": "https://localhost:8080/",
          "height": 459
        },
        "id": "JukEf0-ce28h",
        "outputId": "6395e785-b918-405e-f0b6-29eb44be1ddb"
      },
      "source": [
        "df_images = data[\"images\"]\n",
        "df_images = pd.DataFrame(df_images)\n",
        "print(df_images.shape)\n",
        "\n",
        "df_images_mask = np.array(df_images[\"file_name\"].str.contains(r\"\\d{4}_[A-Z]_[A-Z]_\\d+_[A-Z].jpg\"))\n",
        "df_images[\"tmp\"] = df_images_mask\n",
        "df_images = df_images[df_images[\"tmp\"]]\n",
        "df_images = df_images.drop(\"tmp\", 1)\n",
        "print(df_images.shape)\n",
        "df_images\n",
        "\n",
        "#YES, this is mine"
      ],
      "execution_count": null,
      "outputs": [
        {
          "output_type": "stream",
          "text": [
            "(1984, 8)\n",
            "(1962, 8)\n"
          ],
          "name": "stdout"
        },
        {
          "output_type": "execute_result",
          "data": {
            "text/html": [
              "<div>\n",
              "<style scoped>\n",
              "    .dataframe tbody tr th:only-of-type {\n",
              "        vertical-align: middle;\n",
              "    }\n",
              "\n",
              "    .dataframe tbody tr th {\n",
              "        vertical-align: top;\n",
              "    }\n",
              "\n",
              "    .dataframe thead th {\n",
              "        text-align: right;\n",
              "    }\n",
              "</style>\n",
              "<table border=\"1\" class=\"dataframe\">\n",
              "  <thead>\n",
              "    <tr style=\"text-align: right;\">\n",
              "      <th></th>\n",
              "      <th>id</th>\n",
              "      <th>date_captured</th>\n",
              "      <th>coco_url</th>\n",
              "      <th>file_name</th>\n",
              "      <th>license</th>\n",
              "      <th>flickr_url</th>\n",
              "      <th>height</th>\n",
              "      <th>width</th>\n",
              "    </tr>\n",
              "  </thead>\n",
              "  <tbody>\n",
              "    <tr>\n",
              "      <th>0</th>\n",
              "      <td>0</td>\n",
              "      <td>0</td>\n",
              "      <td></td>\n",
              "      <td>0001_A_H_0_A.jpg</td>\n",
              "      <td>0</td>\n",
              "      <td></td>\n",
              "      <td>1056</td>\n",
              "      <td>1056</td>\n",
              "    </tr>\n",
              "    <tr>\n",
              "      <th>1</th>\n",
              "      <td>100</td>\n",
              "      <td>0</td>\n",
              "      <td></td>\n",
              "      <td>0003_A_V_150_A.jpg</td>\n",
              "      <td>0</td>\n",
              "      <td></td>\n",
              "      <td>1056</td>\n",
              "      <td>1056</td>\n",
              "    </tr>\n",
              "    <tr>\n",
              "      <th>2</th>\n",
              "      <td>101</td>\n",
              "      <td>0</td>\n",
              "      <td></td>\n",
              "      <td>0003_A_V_15_A.jpg</td>\n",
              "      <td>0</td>\n",
              "      <td></td>\n",
              "      <td>1056</td>\n",
              "      <td>1056</td>\n",
              "    </tr>\n",
              "    <tr>\n",
              "      <th>3</th>\n",
              "      <td>102</td>\n",
              "      <td>0</td>\n",
              "      <td></td>\n",
              "      <td>0003_A_V_165_A.jpg</td>\n",
              "      <td>0</td>\n",
              "      <td></td>\n",
              "      <td>1056</td>\n",
              "      <td>1056</td>\n",
              "    </tr>\n",
              "    <tr>\n",
              "      <th>4</th>\n",
              "      <td>103</td>\n",
              "      <td>0</td>\n",
              "      <td></td>\n",
              "      <td>0003_A_V_30_A.jpg</td>\n",
              "      <td>0</td>\n",
              "      <td></td>\n",
              "      <td>1056</td>\n",
              "      <td>1056</td>\n",
              "    </tr>\n",
              "    <tr>\n",
              "      <th>...</th>\n",
              "      <td>...</td>\n",
              "      <td>...</td>\n",
              "      <td>...</td>\n",
              "      <td>...</td>\n",
              "      <td>...</td>\n",
              "      <td>...</td>\n",
              "      <td>...</td>\n",
              "      <td>...</td>\n",
              "    </tr>\n",
              "    <tr>\n",
              "      <th>1979</th>\n",
              "      <td>6098</td>\n",
              "      <td>0</td>\n",
              "      <td></td>\n",
              "      <td>0023_G_H_135_F.jpg</td>\n",
              "      <td>0</td>\n",
              "      <td></td>\n",
              "      <td>1056</td>\n",
              "      <td>1056</td>\n",
              "    </tr>\n",
              "    <tr>\n",
              "      <th>1980</th>\n",
              "      <td>6099</td>\n",
              "      <td>0</td>\n",
              "      <td></td>\n",
              "      <td>0023_G_H_150_F.jpg</td>\n",
              "      <td>0</td>\n",
              "      <td></td>\n",
              "      <td>1056</td>\n",
              "      <td>1056</td>\n",
              "    </tr>\n",
              "    <tr>\n",
              "      <th>1981</th>\n",
              "      <td>6500</td>\n",
              "      <td>0</td>\n",
              "      <td></td>\n",
              "      <td>0037_G_I_0_A.jpg</td>\n",
              "      <td>0</td>\n",
              "      <td></td>\n",
              "      <td>1056</td>\n",
              "      <td>1056</td>\n",
              "    </tr>\n",
              "    <tr>\n",
              "      <th>1982</th>\n",
              "      <td>6501</td>\n",
              "      <td>0</td>\n",
              "      <td></td>\n",
              "      <td>0037_G_I_105_A.jpg</td>\n",
              "      <td>0</td>\n",
              "      <td></td>\n",
              "      <td>1056</td>\n",
              "      <td>1056</td>\n",
              "    </tr>\n",
              "    <tr>\n",
              "      <th>1983</th>\n",
              "      <td>6502</td>\n",
              "      <td>0</td>\n",
              "      <td></td>\n",
              "      <td>0037_G_I_120_A.jpg</td>\n",
              "      <td>0</td>\n",
              "      <td></td>\n",
              "      <td>1056</td>\n",
              "      <td>1056</td>\n",
              "    </tr>\n",
              "  </tbody>\n",
              "</table>\n",
              "<p>1962 rows × 8 columns</p>\n",
              "</div>"
            ],
            "text/plain": [
              "        id  date_captured coco_url  ... flickr_url  height width\n",
              "0        0              0           ...               1056  1056\n",
              "1      100              0           ...               1056  1056\n",
              "2      101              0           ...               1056  1056\n",
              "3      102              0           ...               1056  1056\n",
              "4      103              0           ...               1056  1056\n",
              "...    ...            ...      ...  ...        ...     ...   ...\n",
              "1979  6098              0           ...               1056  1056\n",
              "1980  6099              0           ...               1056  1056\n",
              "1981  6500              0           ...               1056  1056\n",
              "1982  6501              0           ...               1056  1056\n",
              "1983  6502              0           ...               1056  1056\n",
              "\n",
              "[1962 rows x 8 columns]"
            ]
          },
          "metadata": {
            "tags": []
          },
          "execution_count": 7
        }
      ]
    },
    {
      "cell_type": "code",
      "metadata": {
        "colab": {
          "base_uri": "https://localhost:8080/"
        },
        "id": "W86bNp04UsDh",
        "outputId": "18af110c-7c53-4ce6-99e0-93e7d41ef14d"
      },
      "source": [
        "mapper = dict()\n",
        "for index, row in df_annotations.iterrows():\n",
        "    if mapper.get(row[\"image_id\"], None) is None:\n",
        "        mapper[row[\"image_id\"]] = set()\n",
        "    mapper[row[\"image_id\"]].add(row[\"category_id\"])\n",
        "\n",
        "print(len(mapper.keys()))\n",
        "\n",
        "#YES, this thing mapps image_id to categories found on this image (THIS INCLUDES BAD IDs AS WELL)"
      ],
      "execution_count": null,
      "outputs": [
        {
          "output_type": "stream",
          "text": [
            "1984\n"
          ],
          "name": "stdout"
        }
      ]
    },
    {
      "cell_type": "code",
      "metadata": {
        "colab": {
          "base_uri": "https://localhost:8080/",
          "height": 300
        },
        "id": "_qaY5VJIxrfs",
        "outputId": "9f42a86a-2d15-4de3-dbb1-870da8f826c0"
      },
      "source": [
        "possible_values = []\n",
        "frequency = {i: 0 for i in range(1, 10)}\n",
        "\n",
        "for k,v in mapper.items():\n",
        "  for cat in v:\n",
        "    if cat not in possible_values:\n",
        "      frequency[cat] += 1\n",
        "  \n",
        "possible_values.sort()\n",
        "print(frequency)\n",
        "plt.plot(list(frequency.keys()), list(frequency.values()))"
      ],
      "execution_count": null,
      "outputs": [
        {
          "output_type": "stream",
          "text": [
            "{1: 4, 2: 489, 3: 315, 4: 188, 5: 1445, 6: 262, 7: 62, 8: 1, 9: 729}\n"
          ],
          "name": "stdout"
        },
        {
          "output_type": "execute_result",
          "data": {
            "text/plain": [
              "[<matplotlib.lines.Line2D at 0x7f7698ebc390>]"
            ]
          },
          "metadata": {
            "tags": []
          },
          "execution_count": 32
        },
        {
          "output_type": "display_data",
          "data": {
            "image/png": "[encoded data removed]",
            "text/plain": [
              "<Figure size 432x288 with 1 Axes>"
            ]
          },
          "metadata": {
            "tags": [],
            "needs_background": "light"
          }
        }
      ]
    },
    {
      "cell_type": "code",
      "metadata": {
        "colab": {
          "base_uri": "https://localhost:8080/"
        },
        "id": "ZmQQO2nVHicB",
        "outputId": "10f4b501-9039-4487-dfd6-8c837421388b"
      },
      "source": [
        "df_images.shape[0]"
      ],
      "execution_count": null,
      "outputs": [
        {
          "output_type": "execute_result",
          "data": {
            "text/plain": [
              "1962"
            ]
          },
          "metadata": {
            "tags": []
          },
          "execution_count": 33
        }
      ]
    },
    {
      "cell_type": "code",
      "metadata": {
        "id": "ZcR_41M1Zwzz"
      },
      "source": [
        "image_size = 256\n",
        "X_train, y_train = [], []\n",
        "\n",
        "for index, row in df_images.iterrows():\n",
        "    im = Image.open(train_dir + row[\"file_name\"])\n",
        "    im_array = convert_image_to_array(im, image_size=image_size)\n",
        "    cat = np.zeros(9, dtype=int)\n",
        "    for x in mapper[row[\"id\"]]:\n",
        "        cat[x - 1] = 1\n",
        "    X_train.append(im_array)\n",
        "    y_train.append(cat)\n",
        "    \n",
        "\n",
        "\n",
        "X_train = np.array(X_train)\n",
        "y_train = np.array(y_train)\n",
        "\n",
        "# YES, but this works slow :("
      ],
      "execution_count": null,
      "outputs": []
    },
    {
      "cell_type": "code",
      "metadata": {
        "colab": {
          "base_uri": "https://localhost:8080/"
        },
        "id": "ilWxQ1wnKn42",
        "outputId": "68fb2e5c-2381-4e21-9d00-1ef258753f3d"
      },
      "source": [
        "X_train, y_train"
      ],
      "execution_count": null,
      "outputs": [
        {
          "output_type": "execute_result",
          "data": {
            "text/plain": [
              "(array([[[[0, 0, 0],\n",
              "          [0, 0, 0],\n",
              "          [0, 0, 0],\n",
              "          ...,\n",
              "          [0, 0, 0],\n",
              "          [0, 0, 0],\n",
              "          [0, 0, 0]],\n",
              " \n",
              "         [[0, 0, 0],\n",
              "          [0, 0, 0],\n",
              "          [0, 0, 0],\n",
              "          ...,\n",
              "          [0, 0, 0],\n",
              "          [0, 0, 0],\n",
              "          [0, 0, 0]],\n",
              " \n",
              "         [[0, 0, 0],\n",
              "          [0, 0, 0],\n",
              "          [0, 0, 0],\n",
              "          ...,\n",
              "          [0, 0, 0],\n",
              "          [0, 0, 0],\n",
              "          [0, 0, 0]],\n",
              " \n",
              "         ...,\n",
              " \n",
              "         [[0, 0, 0],\n",
              "          [0, 0, 0],\n",
              "          [0, 0, 0],\n",
              "          ...,\n",
              "          [0, 0, 0],\n",
              "          [0, 0, 0],\n",
              "          [0, 0, 0]],\n",
              " \n",
              "         [[0, 0, 0],\n",
              "          [0, 0, 0],\n",
              "          [0, 0, 0],\n",
              "          ...,\n",
              "          [0, 0, 0],\n",
              "          [0, 0, 0],\n",
              "          [0, 0, 0]],\n",
              " \n",
              "         [[0, 0, 0],\n",
              "          [0, 0, 0],\n",
              "          [0, 0, 0],\n",
              "          ...,\n",
              "          [0, 0, 0],\n",
              "          [0, 0, 0],\n",
              "          [0, 0, 0]]],\n",
              " \n",
              " \n",
              "        [[[0, 0, 0],\n",
              "          [0, 0, 0],\n",
              "          [0, 0, 0],\n",
              "          ...,\n",
              "          [0, 0, 0],\n",
              "          [0, 0, 0],\n",
              "          [0, 0, 0]],\n",
              " \n",
              "         [[0, 0, 0],\n",
              "          [0, 0, 0],\n",
              "          [0, 0, 0],\n",
              "          ...,\n",
              "          [0, 0, 0],\n",
              "          [0, 0, 0],\n",
              "          [0, 0, 0]],\n",
              " \n",
              "         [[0, 0, 0],\n",
              "          [0, 0, 0],\n",
              "          [0, 0, 0],\n",
              "          ...,\n",
              "          [0, 0, 0],\n",
              "          [0, 0, 0],\n",
              "          [0, 0, 0]],\n",
              " \n",
              "         ...,\n",
              " \n",
              "         [[0, 0, 0],\n",
              "          [0, 0, 0],\n",
              "          [0, 0, 0],\n",
              "          ...,\n",
              "          [0, 0, 0],\n",
              "          [0, 0, 0],\n",
              "          [0, 0, 0]],\n",
              " \n",
              "         [[0, 0, 0],\n",
              "          [0, 0, 0],\n",
              "          [0, 0, 0],\n",
              "          ...,\n",
              "          [0, 0, 0],\n",
              "          [0, 0, 0],\n",
              "          [0, 0, 0]],\n",
              " \n",
              "         [[0, 0, 0],\n",
              "          [0, 0, 0],\n",
              "          [0, 0, 0],\n",
              "          ...,\n",
              "          [0, 0, 0],\n",
              "          [0, 0, 0],\n",
              "          [0, 0, 0]]],\n",
              " \n",
              " \n",
              "        [[[0, 0, 0],\n",
              "          [0, 0, 0],\n",
              "          [0, 0, 0],\n",
              "          ...,\n",
              "          [0, 0, 0],\n",
              "          [0, 0, 0],\n",
              "          [0, 0, 0]],\n",
              " \n",
              "         [[0, 0, 0],\n",
              "          [0, 0, 0],\n",
              "          [0, 0, 0],\n",
              "          ...,\n",
              "          [0, 0, 0],\n",
              "          [0, 0, 0],\n",
              "          [0, 0, 0]],\n",
              " \n",
              "         [[0, 0, 0],\n",
              "          [0, 0, 0],\n",
              "          [0, 0, 0],\n",
              "          ...,\n",
              "          [0, 0, 0],\n",
              "          [0, 0, 0],\n",
              "          [0, 0, 0]],\n",
              " \n",
              "         ...,\n",
              " \n",
              "         [[0, 0, 0],\n",
              "          [0, 0, 0],\n",
              "          [0, 0, 0],\n",
              "          ...,\n",
              "          [0, 0, 0],\n",
              "          [0, 0, 0],\n",
              "          [0, 0, 0]],\n",
              " \n",
              "         [[0, 0, 0],\n",
              "          [0, 0, 0],\n",
              "          [0, 0, 0],\n",
              "          ...,\n",
              "          [0, 0, 0],\n",
              "          [0, 0, 0],\n",
              "          [0, 0, 0]],\n",
              " \n",
              "         [[0, 0, 0],\n",
              "          [0, 0, 0],\n",
              "          [0, 0, 0],\n",
              "          ...,\n",
              "          [0, 0, 0],\n",
              "          [0, 0, 0],\n",
              "          [0, 0, 0]]],\n",
              " \n",
              " \n",
              "        ...,\n",
              " \n",
              " \n",
              "        [[[0, 0, 0],\n",
              "          [0, 0, 0],\n",
              "          [0, 0, 0],\n",
              "          ...,\n",
              "          [0, 0, 0],\n",
              "          [0, 0, 0],\n",
              "          [0, 0, 0]],\n",
              " \n",
              "         [[0, 0, 0],\n",
              "          [0, 0, 0],\n",
              "          [0, 0, 0],\n",
              "          ...,\n",
              "          [0, 0, 0],\n",
              "          [0, 0, 0],\n",
              "          [0, 0, 0]],\n",
              " \n",
              "         [[0, 0, 0],\n",
              "          [0, 0, 0],\n",
              "          [0, 0, 0],\n",
              "          ...,\n",
              "          [0, 0, 0],\n",
              "          [0, 0, 0],\n",
              "          [0, 0, 0]],\n",
              " \n",
              "         ...,\n",
              " \n",
              "         [[0, 0, 0],\n",
              "          [0, 0, 0],\n",
              "          [0, 0, 0],\n",
              "          ...,\n",
              "          [0, 0, 0],\n",
              "          [0, 0, 0],\n",
              "          [0, 0, 0]],\n",
              " \n",
              "         [[0, 0, 0],\n",
              "          [0, 0, 0],\n",
              "          [0, 0, 0],\n",
              "          ...,\n",
              "          [0, 0, 0],\n",
              "          [0, 0, 0],\n",
              "          [0, 0, 0]],\n",
              " \n",
              "         [[0, 0, 0],\n",
              "          [0, 0, 0],\n",
              "          [0, 0, 0],\n",
              "          ...,\n",
              "          [0, 0, 0],\n",
              "          [0, 0, 0],\n",
              "          [0, 0, 0]]],\n",
              " \n",
              " \n",
              "        [[[0, 0, 0],\n",
              "          [0, 0, 0],\n",
              "          [0, 0, 0],\n",
              "          ...,\n",
              "          [0, 0, 0],\n",
              "          [0, 0, 0],\n",
              "          [0, 0, 0]],\n",
              " \n",
              "         [[0, 0, 0],\n",
              "          [0, 0, 0],\n",
              "          [0, 0, 0],\n",
              "          ...,\n",
              "          [0, 0, 0],\n",
              "          [0, 0, 0],\n",
              "          [0, 0, 0]],\n",
              " \n",
              "         [[0, 0, 0],\n",
              "          [0, 0, 0],\n",
              "          [0, 0, 0],\n",
              "          ...,\n",
              "          [0, 0, 0],\n",
              "          [0, 0, 0],\n",
              "          [0, 0, 0]],\n",
              " \n",
              "         ...,\n",
              " \n",
              "         [[0, 0, 0],\n",
              "          [0, 0, 0],\n",
              "          [0, 0, 0],\n",
              "          ...,\n",
              "          [0, 0, 0],\n",
              "          [0, 0, 0],\n",
              "          [0, 0, 0]],\n",
              " \n",
              "         [[0, 0, 0],\n",
              "          [0, 0, 0],\n",
              "          [0, 0, 0],\n",
              "          ...,\n",
              "          [0, 0, 0],\n",
              "          [0, 0, 0],\n",
              "          [0, 0, 0]],\n",
              " \n",
              "         [[0, 0, 0],\n",
              "          [0, 0, 0],\n",
              "          [0, 0, 0],\n",
              "          ...,\n",
              "          [0, 0, 0],\n",
              "          [0, 0, 0],\n",
              "          [0, 0, 0]]],\n",
              " \n",
              " \n",
              "        [[[0, 0, 0],\n",
              "          [0, 0, 0],\n",
              "          [0, 0, 0],\n",
              "          ...,\n",
              "          [0, 0, 0],\n",
              "          [0, 0, 0],\n",
              "          [0, 0, 0]],\n",
              " \n",
              "         [[0, 0, 0],\n",
              "          [0, 0, 0],\n",
              "          [0, 0, 0],\n",
              "          ...,\n",
              "          [0, 0, 0],\n",
              "          [0, 0, 0],\n",
              "          [0, 0, 0]],\n",
              " \n",
              "         [[0, 0, 0],\n",
              "          [0, 0, 0],\n",
              "          [0, 0, 0],\n",
              "          ...,\n",
              "          [0, 0, 0],\n",
              "          [0, 0, 0],\n",
              "          [0, 0, 0]],\n",
              " \n",
              "         ...,\n",
              " \n",
              "         [[0, 0, 0],\n",
              "          [0, 0, 0],\n",
              "          [0, 0, 0],\n",
              "          ...,\n",
              "          [0, 0, 0],\n",
              "          [0, 0, 0],\n",
              "          [0, 0, 0]],\n",
              " \n",
              "         [[0, 0, 0],\n",
              "          [0, 0, 0],\n",
              "          [0, 0, 0],\n",
              "          ...,\n",
              "          [0, 0, 0],\n",
              "          [0, 0, 0],\n",
              "          [0, 0, 0]],\n",
              " \n",
              "         [[0, 0, 0],\n",
              "          [0, 0, 0],\n",
              "          [0, 0, 0],\n",
              "          ...,\n",
              "          [0, 0, 0],\n",
              "          [0, 0, 0],\n",
              "          [0, 0, 0]]]], dtype=uint8), array([[0, 0, 0, ..., 0, 0, 1],\n",
              "        [0, 0, 0, ..., 1, 0, 0],\n",
              "        [0, 0, 0, ..., 0, 0, 1],\n",
              "        ...,\n",
              "        [0, 0, 0, ..., 0, 0, 0],\n",
              "        [0, 0, 0, ..., 0, 0, 0],\n",
              "        [0, 0, 0, ..., 0, 0, 0]]))"
            ]
          },
          "metadata": {
            "tags": []
          },
          "execution_count": 36
        }
      ]
    },
    {
      "cell_type": "code",
      "metadata": {
        "id": "fWL3FCvZKwY_"
      },
      "source": [
        ""
      ],
      "execution_count": null,
      "outputs": []
    },
    {
      "cell_type": "code",
      "metadata": {
        "colab": {
          "base_uri": "https://localhost:8080/"
        },
        "id": "tfNaj0SlNE0Q",
        "outputId": "d9a86825-abd6-4a28-bfeb-41e70662978a"
      },
      "source": [
        "X_train.shape, y_train.shape, len(images_train_filenames)"
      ],
      "execution_count": null,
      "outputs": [
        {
          "output_type": "execute_result",
          "data": {
            "text/plain": [
              "((1962, 256, 256, 3), (1962, 9), 1962)"
            ]
          },
          "metadata": {
            "tags": []
          },
          "execution_count": 11
        }
      ]
    },
    {
      "cell_type": "code",
      "metadata": {
        "id": "K-81hoGALzij"
      },
      "source": [
        "X_test = []\n",
        "id_test = []\n",
        "\n",
        "for filename in images_test_filenames:\n",
        "    im = Image.open(test_dir + filename)\n",
        "    im_array = convert_image_to_array(im, image_size)\n",
        "    X_test.append(im_array)\n",
        "    id_test.append(filename)"
      ],
      "execution_count": null,
      "outputs": []
    },
    {
      "cell_type": "code",
      "metadata": {
        "colab": {
          "base_uri": "https://localhost:8080/",
          "height": 373
        },
        "id": "whuacHc5H0eD",
        "outputId": "642f7fc5-2ae9-4d2d-a610-43cb0e5588b1"
      },
      "source": [
        "max = 0\n",
        "max_index = 0\n",
        "for index, i in enumerate(y_train):\n",
        "  summa = np.sum(i)\n",
        "  if summa > max:\n",
        "    max = summa\n",
        "    max_index = index\n",
        "\n",
        "plt.plot([1, 2, 3, 4])\n",
        "plt.imshow(X_train[max_index] / 255)\n",
        "print(y_train[max_index])\n",
        "print(images_train_filenames[max_index])  # For some reason this thing tricks me!!!\n",
        "print(df_images[\"file_name\"][max_index])\n",
        "print(len(X_train))\n",
        "print(len(y_train))\n",
        "print(len(images_train_filenames))"
      ],
      "execution_count": null,
      "outputs": [
        {
          "output_type": "stream",
          "text": [
            "[0 1 1 0 1 1 0 0 1]\n",
            "0019_A_H_15_B.jpg\n",
            "0017_E_H_15_A.jpg\n",
            "1962\n",
            "1962\n",
            "1962\n"
          ],
          "name": "stdout"
        },
        {
          "output_type": "display_data",
          "data": {
            "image/png": "[encoded data removed]",
            "text/plain": [
              "<Figure size 432x288 with 1 Axes>"
            ]
          },
          "metadata": {
            "tags": [],
            "needs_background": "light"
          }
        }
      ]
    },
    {
      "cell_type": "code",
      "metadata": {
        "id": "7yrplhVNZyTK"
      },
      "source": [
        "def get_model():\n",
        "    model = keras.models.Sequential()\n",
        "\n",
        "    model.add(\n",
        "        Conv2D(32, (3, 3), padding=\"same\", input_shape=[image_size, image_size, 3])\n",
        "    )\n",
        "    model.add(Activation(\"relu\"))\n",
        "    model.add(BatchNormalization(axis=-1))\n",
        "    model.add(MaxPooling2D(pool_size=(3, 3)))\n",
        "    model.add(Dropout(0.25))\n",
        "\n",
        "    model.add(Conv2D(64, (3, 3), padding=\"same\"))\n",
        "    model.add(Activation(\"relu\"))\n",
        "    model.add(BatchNormalization(axis=-1))\n",
        "\n",
        "    model.add(Conv2D(64, (3, 3), padding=\"same\"))\n",
        "    model.add(Activation(\"relu\"))\n",
        "    model.add(BatchNormalization(axis=-1))\n",
        "    model.add(MaxPooling2D(pool_size=(2, 2)))\n",
        "    model.add(Dropout(0.25))\n",
        "\n",
        "    model.add(Conv2D(128, (3, 3), padding=\"same\"))\n",
        "    model.add(Activation(\"relu\"))\n",
        "    model.add(BatchNormalization(axis=-1))\n",
        "\n",
        "    model.add(Conv2D(128, (3, 3), padding=\"same\"))\n",
        "    model.add(Activation(\"relu\"))\n",
        "    model.add(BatchNormalization(axis=-1))\n",
        "\n",
        "    model.add(Conv2D(128, (5, 5), padding=\"same\"))\n",
        "    model.add(Activation(\"relu\"))\n",
        "    model.add(BatchNormalization(axis=-1))\n",
        "    model.add(Dropout(0.25))\n",
        "\n",
        "    model.add(MaxPooling2D(pool_size=(2, 2)))\n",
        "    model.add(Dropout(0.25))\n",
        "    model.add(Flatten())\n",
        "    model.add(Dense(1024))\n",
        "    model.add(Activation(\"relu\"))\n",
        "    model.add(BatchNormalization())\n",
        "    model.add(Dropout(0.5))\n",
        "\n",
        "    model.add(Dense(9))\n",
        "    model.add(Activation(\"sigmoid\"))\n",
        "\n",
        "    model.compile(\n",
        "        loss=\"binary_crossentropy\",\n",
        "        optimizer=\"adam\",\n",
        "        metrics=[\n",
        "            keras.metrics.AUC(name=\"roc_auc\", curve=\"ROC\"),\n",
        "            keras.metrics.AUC(\n",
        "                name=\"roc_auc_multi_label\", curve=\"ROC\", multi_label=True\n",
        "            ),\n",
        "        ],\n",
        "    )\n",
        "\n",
        "    return model"
      ],
      "execution_count": null,
      "outputs": []
    },
    {
      "cell_type": "code",
      "metadata": {
        "id": "FTtevcRgZ1QF"
      },
      "source": [
        "aug = ImageDataGenerator(\n",
        "    rotation_range=25,\n",
        "    width_shift_range=0.2,\n",
        "    height_shift_range=0.2,\n",
        "    shear_range=0.2,\n",
        "    zoom_range=0.3,\n",
        "    horizontal_flip=True,\n",
        "    vertical_flip=True,\n",
        "    fill_mode=\"nearest\",\n",
        "    validation_split=0.3,\n",
        ")"
      ],
      "execution_count": null,
      "outputs": []
    },
    {
      "cell_type": "code",
      "metadata": {
        "id": "aT05rsReZ3Lx",
        "colab": {
          "base_uri": "https://localhost:8080/",
          "height": 199
        },
        "outputId": "81b6fbe0-1688-4df8-99cd-2cdbf4c7aa15"
      },
      "source": [
        "model = get_model()\n",
        "\n",
        "model.summary()"
      ],
      "execution_count": null,
      "outputs": [
        {
          "output_type": "error",
          "ename": "NameError",
          "evalue": "ignored",
          "traceback": [
            "\u001b[0;31m---------------------------------------------------------------------------\u001b[0m",
            "\u001b[0;31mNameError\u001b[0m                                 Traceback (most recent call last)",
            "\u001b[0;32m<ipython-input-1-aa37ebb547ff>\u001b[0m in \u001b[0;36m<module>\u001b[0;34m()\u001b[0m\n\u001b[0;32m----> 1\u001b[0;31m \u001b[0mmodel\u001b[0m \u001b[0;34m=\u001b[0m \u001b[0mget_model\u001b[0m\u001b[0;34m(\u001b[0m\u001b[0;34m)\u001b[0m\u001b[0;34m\u001b[0m\u001b[0;34m\u001b[0m\u001b[0m\n\u001b[0m\u001b[1;32m      2\u001b[0m \u001b[0;34m\u001b[0m\u001b[0m\n\u001b[1;32m      3\u001b[0m \u001b[0mmodel\u001b[0m\u001b[0;34m.\u001b[0m\u001b[0msummary\u001b[0m\u001b[0;34m(\u001b[0m\u001b[0;34m)\u001b[0m\u001b[0;34m\u001b[0m\u001b[0;34m\u001b[0m\u001b[0m\n",
            "\u001b[0;31mNameError\u001b[0m: name 'get_model' is not defined"
          ]
        }
      ]
    },
    {
      "cell_type": "code",
      "metadata": {
        "id": "uJCoInStZ4j9"
      },
      "source": [
        "BS = 64\n",
        "EPOCHS = 8\n",
        "\n",
        "history = model.fit(\n",
        "    aug.flow(X_train, y_train, batch_size=BS),\n",
        "    validation_data=aug.flow(X_train, y_train, batch_size=BS, subset='validation'),\n",
        "    steps_per_epoch=len(X_train) // BS,\n",
        "    epochs=EPOCHS,\n",
        "    verbose=1,\n",
        ")"
      ],
      "execution_count": null,
      "outputs": []
    },
    {
      "cell_type": "code",
      "metadata": {
        "id": "4uBoGMb8aAEi"
      },
      "source": [
        "X_test = tf.stack(X_test)\n",
        "y_preds = model.predict_proba(X_test)"
      ],
      "execution_count": null,
      "outputs": []
    },
    {
      "cell_type": "code",
      "metadata": {
        "id": "-faClKDBaBRz"
      },
      "source": [
        "for i in range(len(y_preds)):\n",
        "    y_preds[i] = np.array(y_preds[i] >= 0.5)\n",
        "\n",
        "y_preds = np.array(y_preds, dtype=int)\n",
        "\n",
        "\n",
        "y_preds = pd.DataFrame(\n",
        "    data=np.concatenate((np.array(id_test).reshape(-1, 1), y_preds), axis=1),\n",
        "    index=None,\n",
        "    columns=[\"image_id\"] + list(map(str, range(1, 10))),\n",
        ")"
      ],
      "execution_count": null,
      "outputs": []
    },
    {
      "cell_type": "code",
      "metadata": {
        "id": "bC8fC6vlaFEU"
      },
      "source": [
        "# y_preds.to_csv(\"submission.csv\", index=None)\n",
        "y_preds"
      ],
      "execution_count": null,
      "outputs": []
    }
  ]
}