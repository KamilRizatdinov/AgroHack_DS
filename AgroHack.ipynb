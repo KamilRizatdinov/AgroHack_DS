{
  "nbformat": 4,
  "nbformat_minor": 0,
  "metadata": {
    "colab": {
      "name": "AgroHack.ipynb",
      "provenance": [],
      "collapsed_sections": [],
      "authorship_tag": "ABX9TyNY48SYiWaQyZGilmbq6onn",
      "include_colab_link": true
    },
    "kernelspec": {
      "name": "python3",
      "display_name": "Python 3"
    },
    "accelerator": "GPU"
  },
  "cells": [
    {
      "cell_type": "markdown",
      "metadata": {
        "id": "view-in-github",
        "colab_type": "text"
      },
      "source": [
        "<a href=\"https://colab.research.google.com/github/KamilRizatdinov/AgroHack_DS/blob/main/AgroHack.ipynb\" target=\"_parent\"><img src=\"https://colab.research.google.com/assets/colab-badge.svg\" alt=\"Open In Colab\"/></a>"
      ]
    },
    {
      "cell_type": "code",
      "metadata": {
        "id": "L8ZgwkO-ZKhP"
      },
      "source": [
        "import json\n",
        "from os import listdir\n",
        "from os.path import isfile, join\n",
        "\n",
        "import keras\n",
        "import keras.layers as L\n",
        "import matplotlib.pyplot as plt\n",
        "import numpy as np\n",
        "import pandas as pd\n",
        "import tensorflow as tf\n",
        "from keras import backend as K\n",
        "from keras.layers.convolutional import Conv2D, MaxPooling2D\n",
        "from keras.layers.core import Activation, Dense, Dropout, Flatten\n",
        "from keras.layers.normalization import BatchNormalization\n",
        "from keras.models import Sequential\n",
        "from keras.optimizers import Adam\n",
        "from keras.preprocessing import image\n",
        "from keras.preprocessing.image import ImageDataGenerator, img_to_array\n",
        "from PIL import Image\n",
        "from sklearn.model_selection import train_test_split\n",
        "from sklearn.preprocessing import MultiLabelBinarizer\n",
        "from tensorflow import keras\n",
        "from tensorflow.keras import layers"
      ],
      "execution_count": null,
      "outputs": []
    },
    {
      "cell_type": "code",
      "metadata": {
        "id": "3gIHYw-GZRfv"
      },
      "source": [
        "def convert_image_to_array(img, image_size):\n",
        "    try:\n",
        "        return np.array(img.resize((image_size, image_size), Image.ANTIALIAS))\n",
        "    except BaseException as e:\n",
        "        print(\"Error!\")\n",
        "        print(e)\n",
        "        plt.imshow(np.array(img) / 255)"
      ],
      "execution_count": null,
      "outputs": []
    },
    {
      "cell_type": "code",
      "metadata": {
        "id": "EWuWJzoKZT16"
      },
      "source": [
        "train_dir = \"/content/drive/MyDrive/lemon-dataset/images/train/\"\n",
        "test_dir = \"/content/drive/MyDrive/lemon-dataset/images/test/\"\n",
        "\n",
        "images_train_filenames = [f for f in listdir(train_dir) if isfile(join(train_dir, f))]\n",
        "images_test_filenames = [f for f in listdir(test_dir) if isfile(join(test_dir, f))]"
      ],
      "execution_count": null,
      "outputs": []
    },
    {
      "cell_type": "code",
      "metadata": {
        "id": "18BtM6pLZW9y"
      },
      "source": [
        "annotations_dir = \"/content/drive/MyDrive/lemon-dataset/annotations/\"\n",
        "\n",
        "with open(annotations_dir + \"instances_default.json\", \"r\") as fp:\n",
        "    data = json.load(fp)\n",
        "\n",
        "\n",
        "df_annotations = data[\"annotations\"]\n",
        "df_annotations = pd.DataFrame(df_annotations)\n",
        "\n",
        "\n",
        "df_images = data[\"images\"]\n",
        "df_images = pd.DataFrame(df_images)\n",
        "\n",
        "mapper = dict()\n",
        "\n",
        "for index, row in df_annotations.iterrows():\n",
        "    if mapper.get(row[\"image_id\"], None) is None:\n",
        "        mapper[row[\"image_id\"]] = set()\n",
        "    mapper[row[\"image_id\"]].add(row[\"category_id\"])\n",
        "\n",
        "image_size = 256"
      ],
      "execution_count": null,
      "outputs": []
    },
    {
      "cell_type": "code",
      "metadata": {
        "id": "ZcR_41M1Zwzz"
      },
      "source": [
        "X_train, y_train = [], []\n",
        "\n",
        "for index, row in df_images.iterrows():\n",
        "    im = Image.open(train_dir + row[\"file_name\"])\n",
        "    im_array = convert_image_to_array(im, image_size=image_size)\n",
        "    cat = np.zeros(9, dtype=int)\n",
        "    for x in mapper[row[\"id\"]]:\n",
        "        cat[x - 1] = 1\n",
        "    X_train.append(im_array)\n",
        "    y_train.append(cat)\n",
        "\n",
        "\n",
        "X_train = np.array(X_train)\n",
        "y_train = np.array(y_train)\n",
        "\n",
        "\n",
        "X_train.shape, y_train.shape\n",
        "\n",
        "\n",
        "X_test = []\n",
        "id_test = []\n",
        "\n",
        "for filename in images_test_filenames:\n",
        "    im = Image.open(test_dir + filename)\n",
        "    im_array = convert_image_to_array(im, image_size)\n",
        "    X_test.append(im_array)\n",
        "    id_test.append(filename)"
      ],
      "execution_count": null,
      "outputs": []
    },
    {
      "cell_type": "code",
      "metadata": {
        "id": "7yrplhVNZyTK"
      },
      "source": [
        "def get_model():\n",
        "    model = keras.models.Sequential()\n",
        "\n",
        "    model.add(\n",
        "        Conv2D(32, (3, 3), padding=\"same\", input_shape=[image_size, image_size, 3])\n",
        "    )\n",
        "    model.add(Activation(\"relu\"))\n",
        "    model.add(BatchNormalization(axis=-1))\n",
        "    model.add(MaxPooling2D(pool_size=(3, 3)))\n",
        "    model.add(Dropout(0.25))\n",
        "\n",
        "    model.add(Conv2D(64, (3, 3), padding=\"same\"))\n",
        "    model.add(Activation(\"relu\"))\n",
        "    model.add(BatchNormalization(axis=-1))\n",
        "\n",
        "    model.add(Conv2D(64, (3, 3), padding=\"same\"))\n",
        "    model.add(Activation(\"relu\"))\n",
        "    model.add(BatchNormalization(axis=-1))\n",
        "    model.add(MaxPooling2D(pool_size=(2, 2)))\n",
        "    model.add(Dropout(0.25))\n",
        "\n",
        "    model.add(Conv2D(128, (3, 3), padding=\"same\"))\n",
        "    model.add(Activation(\"relu\"))\n",
        "    model.add(BatchNormalization(axis=-1))\n",
        "\n",
        "    model.add(Conv2D(128, (3, 3), padding=\"same\"))\n",
        "    model.add(Activation(\"relu\"))\n",
        "    model.add(BatchNormalization(axis=-1))\n",
        "\n",
        "    model.add(MaxPooling2D(pool_size=(2, 2)))\n",
        "    model.add(Dropout(0.25))\n",
        "    model.add(Flatten())\n",
        "    model.add(Dense(1024))\n",
        "    model.add(Activation(\"relu\"))\n",
        "    model.add(BatchNormalization())\n",
        "    model.add(Dropout(0.5))\n",
        "\n",
        "    model.add(Dense(9))\n",
        "    model.add(Activation(\"sigmoid\"))\n",
        "\n",
        "    model.compile(\n",
        "        loss=\"binary_crossentropy\",\n",
        "        optimizer=\"adam\",\n",
        "        metrics=[\n",
        "            keras.metrics.AUC(name=\"roc_auc\", curve=\"ROC\"),\n",
        "            keras.metrics.AUC(\n",
        "                name=\"roc_auc_multi_label\", curve=\"ROC\", multi_label=True\n",
        "            ),\n",
        "        ],\n",
        "    )\n",
        "\n",
        "    return model"
      ],
      "execution_count": null,
      "outputs": []
    },
    {
      "cell_type": "code",
      "metadata": {
        "id": "FTtevcRgZ1QF"
      },
      "source": [
        "aug = ImageDataGenerator(\n",
        "    rotation_range=25,\n",
        "    width_shift_range=0.1,\n",
        "    height_shift_range=0.1,\n",
        "    shear_range=0.2,\n",
        "    zoom_range=0.2,\n",
        "    horizontal_flip=True,\n",
        "    fill_mode=\"nearest\",\n",
        ")"
      ],
      "execution_count": null,
      "outputs": []
    },
    {
      "cell_type": "code",
      "metadata": {
        "id": "aT05rsReZ3Lx",
        "colab": {
          "base_uri": "https://localhost:8080/"
        },
        "outputId": "11a48809-522c-4b91-c3a0-2a850bed4720"
      },
      "source": [
        "model = get_model()\n",
        "\n",
        "model.summary()"
      ],
      "execution_count": null,
      "outputs": [
        {
          "output_type": "stream",
          "text": [
            "Model: \"sequential\"\n",
            "_________________________________________________________________\n",
            "Layer (type)                 Output Shape              Param #   \n",
            "=================================================================\n",
            "conv2d (Conv2D)              (None, 256, 256, 32)      896       \n",
            "_________________________________________________________________\n",
            "activation (Activation)      (None, 256, 256, 32)      0         \n",
            "_________________________________________________________________\n",
            "batch_normalization (BatchNo (None, 256, 256, 32)      128       \n",
            "_________________________________________________________________\n",
            "max_pooling2d (MaxPooling2D) (None, 85, 85, 32)        0         \n",
            "_________________________________________________________________\n",
            "dropout (Dropout)            (None, 85, 85, 32)        0         \n",
            "_________________________________________________________________\n",
            "conv2d_1 (Conv2D)            (None, 85, 85, 64)        18496     \n",
            "_________________________________________________________________\n",
            "activation_1 (Activation)    (None, 85, 85, 64)        0         \n",
            "_________________________________________________________________\n",
            "batch_normalization_1 (Batch (None, 85, 85, 64)        256       \n",
            "_________________________________________________________________\n",
            "conv2d_2 (Conv2D)            (None, 85, 85, 64)        36928     \n",
            "_________________________________________________________________\n",
            "activation_2 (Activation)    (None, 85, 85, 64)        0         \n",
            "_________________________________________________________________\n",
            "batch_normalization_2 (Batch (None, 85, 85, 64)        256       \n",
            "_________________________________________________________________\n",
            "max_pooling2d_1 (MaxPooling2 (None, 42, 42, 64)        0         \n",
            "_________________________________________________________________\n",
            "dropout_1 (Dropout)          (None, 42, 42, 64)        0         \n",
            "_________________________________________________________________\n",
            "conv2d_3 (Conv2D)            (None, 42, 42, 128)       73856     \n",
            "_________________________________________________________________\n",
            "activation_3 (Activation)    (None, 42, 42, 128)       0         \n",
            "_________________________________________________________________\n",
            "batch_normalization_3 (Batch (None, 42, 42, 128)       512       \n",
            "_________________________________________________________________\n",
            "conv2d_4 (Conv2D)            (None, 42, 42, 128)       147584    \n",
            "_________________________________________________________________\n",
            "activation_4 (Activation)    (None, 42, 42, 128)       0         \n",
            "_________________________________________________________________\n",
            "batch_normalization_4 (Batch (None, 42, 42, 128)       512       \n",
            "_________________________________________________________________\n",
            "max_pooling2d_2 (MaxPooling2 (None, 21, 21, 128)       0         \n",
            "_________________________________________________________________\n",
            "dropout_2 (Dropout)          (None, 21, 21, 128)       0         \n",
            "_________________________________________________________________\n",
            "flatten (Flatten)            (None, 56448)             0         \n",
            "_________________________________________________________________\n",
            "dense (Dense)                (None, 1024)              57803776  \n",
            "_________________________________________________________________\n",
            "activation_5 (Activation)    (None, 1024)              0         \n",
            "_________________________________________________________________\n",
            "batch_normalization_5 (Batch (None, 1024)              4096      \n",
            "_________________________________________________________________\n",
            "dropout_3 (Dropout)          (None, 1024)              0         \n",
            "_________________________________________________________________\n",
            "dense_1 (Dense)              (None, 9)                 9225      \n",
            "_________________________________________________________________\n",
            "activation_6 (Activation)    (None, 9)                 0         \n",
            "=================================================================\n",
            "Total params: 58,096,521\n",
            "Trainable params: 58,093,641\n",
            "Non-trainable params: 2,880\n",
            "_________________________________________________________________\n"
          ],
          "name": "stdout"
        }
      ]
    },
    {
      "cell_type": "code",
      "metadata": {
        "id": "uJCoInStZ4j9",
        "colab": {
          "base_uri": "https://localhost:8080/"
        },
        "outputId": "afd43762-4b09-4acd-abef-c9f3aa4342e8"
      },
      "source": [
        "BS = 32\n",
        "EPOCHS = 1\n",
        "\n",
        "history = model.fit(\n",
        "    aug.flow(X_train, y_train, batch_size=BS),\n",
        "    steps_per_epoch=len(X_train) // BS,\n",
        "    epochs=EPOCHS,\n",
        "    verbose=1,\n",
        ")"
      ],
      "execution_count": null,
      "outputs": [
        {
          "output_type": "stream",
          "text": [
            "62/62 [==============================] - 26s 424ms/step - loss: 0.7730 - roc_auc: 0.5939 - roc_auc_multi_label: 0.5121\n"
          ],
          "name": "stdout"
        }
      ]
    },
    {
      "cell_type": "code",
      "metadata": {
        "id": "4uBoGMb8aAEi"
      },
      "source": [
        "X_test = tf.stack(X_test)\n",
        "y_preds = model.predict_proba(X_test)"
      ],
      "execution_count": null,
      "outputs": []
    },
    {
      "cell_type": "code",
      "metadata": {
        "id": "-faClKDBaBRz"
      },
      "source": [
        "for i in range(len(y_preds)):\n",
        "    y_preds[i] = np.array(y_preds[i] >= 0.5)\n",
        "\n",
        "y_preds = np.array(y_preds, dtype=int)\n",
        "\n",
        "\n",
        "y_preds = pd.DataFrame(\n",
        "    data=np.concatenate((np.array(id_test).reshape(-1, 1), y_preds), axis=1),\n",
        "    index=None,\n",
        "    columns=[\"image_id\"] + list(map(str, range(1, 10))),\n",
        ")"
      ],
      "execution_count": null,
      "outputs": []
    },
    {
      "cell_type": "code",
      "metadata": {
        "id": "bC8fC6vlaFEU"
      },
      "source": [
        "y_preds.to_csv(\"submission.csv\", index=None)"
      ],
      "execution_count": null,
      "outputs": []
    }
  ]
}